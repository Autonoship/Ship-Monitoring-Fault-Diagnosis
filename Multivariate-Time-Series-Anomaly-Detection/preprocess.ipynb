{
 "cells": [
  {
   "cell_type": "markdown",
   "metadata": {
    "id": "nvm5_xq29CbI"
   },
   "source": [
    "# Import some useful packages\n"
   ]
  },
  {
   "cell_type": "code",
   "execution_count": 1,
   "metadata": {
    "id": "aG5JWCGV6pri"
   },
   "outputs": [],
   "source": [
    "# !pip install plotly\n",
    "from pathlib import Path # convenient way to deal w/ paths\n",
    "import plotly.graph_objects as go # creates plots\n",
    "import numpy as np # standard for data processing\n",
    "import pandas as pd # standard for data processing\n",
    "import json # we have anomalies' timestamps in json format\n",
    "import matplotlib.pyplot as plt "
   ]
  },
  {
   "cell_type": "markdown",
   "metadata": {
    "id": "_eoZwwyD-GZQ"
   },
   "source": [
    "# Specify paths to our data of interest"
   ]
  },
  {
   "cell_type": "code",
   "execution_count": 2,
   "metadata": {
    "colab": {
     "base_uri": "https://localhost:8080/"
    },
    "id": "JmKvghY860VC",
    "outputId": "d274829d-5816-4dec-eb56-afc0d05eb537"
   },
   "outputs": [],
   "source": [
    "mapper_path='./map.csv'\n",
    "mapper = pd.read_csv(mapper_path)"
   ]
  },
  {
   "cell_type": "code",
   "execution_count": 3,
   "metadata": {
    "scrolled": true
   },
   "outputs": [
    {
     "data": {
      "text/html": "<div>\n<style scoped>\n    .dataframe tbody tr th:only-of-type {\n        vertical-align: middle;\n    }\n\n    .dataframe tbody tr th {\n        vertical-align: top;\n    }\n\n    .dataframe thead th {\n        text-align: right;\n    }\n</style>\n<table border=\"1\" class=\"dataframe\">\n  <thead>\n    <tr style=\"text-align: right;\">\n      <th></th>\n      <th>COMM Channel Name</th>\n      <th>Target</th>\n    </tr>\n  </thead>\n  <tbody>\n    <tr>\n      <th>0</th>\n      <td>IMO_NO</td>\n      <td>IMO_NO</td>\n    </tr>\n    <tr>\n      <th>1</th>\n      <td>VESSEL NAME</td>\n      <td>VESSEL NAME</td>\n    </tr>\n    <tr>\n      <th>2</th>\n      <td>UTC DATE</td>\n      <td>UTC DATE</td>\n    </tr>\n    <tr>\n      <th>3</th>\n      <td>LATITUDE</td>\n      <td>LATITUDE</td>\n    </tr>\n    <tr>\n      <th>4</th>\n      <td>LONGITUDE</td>\n      <td>LONGITUDE</td>\n    </tr>\n    <tr>\n      <th>...</th>\n      <td>...</td>\n      <td>...</td>\n    </tr>\n    <tr>\n      <th>214</th>\n      <td>M/E FO IN DENSITY AT 15 (g/cc)</td>\n      <td>NaN</td>\n    </tr>\n    <tr>\n      <th>215</th>\n      <td>M/E FO IN DENSITY AT FLOW (g/cc)</td>\n      <td>NaN</td>\n    </tr>\n    <tr>\n      <th>216</th>\n      <td>M/E FOC (FOR ADMIN, SIMS) (MT/day)</td>\n      <td>NaN</td>\n    </tr>\n    <tr>\n      <th>217</th>\n      <td>BACK WASH FLOW (L/h)</td>\n      <td>NaN</td>\n    </tr>\n    <tr>\n      <th>218</th>\n      <td>M/E FUEL COMMAND USE FOR INJ (%)</td>\n      <td>NaN</td>\n    </tr>\n  </tbody>\n</table>\n<p>219 rows × 2 columns</p>\n</div>",
      "text/plain": "                      COMM Channel Name       Target\n0                                IMO_NO       IMO_NO\n1                           VESSEL NAME  VESSEL NAME\n2                              UTC DATE     UTC DATE\n3                              LATITUDE     LATITUDE\n4                             LONGITUDE    LONGITUDE\n..                                  ...          ...\n214      M/E FO IN DENSITY AT 15 (g/cc)          NaN\n215    M/E FO IN DENSITY AT FLOW (g/cc)          NaN\n216  M/E FOC (FOR ADMIN, SIMS) (MT/day)          NaN\n217                BACK WASH FLOW (L/h)          NaN\n218    M/E FUEL COMMAND USE FOR INJ (%)          NaN\n\n[219 rows x 2 columns]"
     },
     "execution_count": 3,
     "metadata": {},
     "output_type": "execute_result"
    }
   ],
   "source": [
    "mapper"
   ]
  },
  {
   "cell_type": "code",
   "execution_count": 4,
   "metadata": {},
   "outputs": [],
   "source": [
    "COMM_CN = list(mapper['COMM Channel Name'])\n",
    "target= list(mapper['Target'])"
   ]
  },
  {
   "cell_type": "code",
   "execution_count": 5,
   "metadata": {},
   "outputs": [],
   "source": [
    "# important paramters we are interested in\n",
    "# target_parameter = COMM_CN[21:81][:8]\n",
    "target_parameter = COMM_CN[21:81][:8] + COMM_CN[33:81][:8]"
   ]
  },
  {
   "cell_type": "code",
   "execution_count": 6,
   "metadata": {},
   "outputs": [
    {
     "data": {
      "text/plain": "['M/E NO.1 CYL EXH GAS OUT T (C)',\n 'M/E NO.2 CYL EXH GAS OUT T (C)',\n 'M/E NO.3 CYL EXH GAS OUT T (C)',\n 'M/E NO.4 CYL EXH GAS OUT T (C)',\n 'M/E NO.5 CYL EXH GAS OUT T (C)',\n 'M/E NO.6 CYL EXH GAS OUT T (C)',\n 'M/E NO.7 CYL EXH GAS OUT T (C)',\n 'M/E NO.8 CYL EXH GAS OUT T (C)',\n 'M/E NO.1 CYL SCAV AIR T (C)',\n 'M/E NO.2 CYL SCAV AIR T (C)',\n 'M/E NO.3 CYL SCAV AIR T (C)',\n 'M/E NO.4 CYL SCAV AIR T (C)',\n 'M/E NO.5 CYL SCAV AIR T (C)',\n 'M/E NO.6 CYL SCAV AIR T (C)',\n 'M/E NO.7 CYL SCAV AIR T (C)',\n 'M/E NO.8 CYL SCAV AIR T (C)']"
     },
     "execution_count": 6,
     "metadata": {},
     "output_type": "execute_result"
    }
   ],
   "source": [
    "target_parameter"
   ]
  },
  {
   "cell_type": "code",
   "execution_count": 7,
   "metadata": {},
   "outputs": [],
   "source": [
    "# define filepath to read data\n",
    "#  change the path of dataset_path, model_path and predict_path accoding to the pathes in your local computer\n",
    "file_path = './31_CTS-PCC_SIMS Data(Common)_USC_201908010000_202004302359.csv'\n",
    "\n",
    "setting_names = ['M/E LOAD (%)', 'M/E RPM (rpm)']\n",
    "# col_names includes all the parameters we are interested in \n",
    "col_names = target_parameter + setting_names\n",
    "all_data = pd.read_csv(file_path)\n",
    "data = all_data[col_names]\n"
   ]
  },
  {
   "cell_type": "code",
   "execution_count": 8,
   "metadata": {},
   "outputs": [
    {
     "data": {
      "text/html": "<div>\n<style scoped>\n    .dataframe tbody tr th:only-of-type {\n        vertical-align: middle;\n    }\n\n    .dataframe tbody tr th {\n        vertical-align: top;\n    }\n\n    .dataframe thead th {\n        text-align: right;\n    }\n</style>\n<table border=\"1\" class=\"dataframe\">\n  <thead>\n    <tr style=\"text-align: right;\">\n      <th></th>\n      <th>M/E NO.1 CYL EXH GAS OUT T (C)</th>\n      <th>M/E NO.2 CYL EXH GAS OUT T (C)</th>\n      <th>M/E NO.3 CYL EXH GAS OUT T (C)</th>\n      <th>M/E NO.4 CYL EXH GAS OUT T (C)</th>\n      <th>M/E NO.5 CYL EXH GAS OUT T (C)</th>\n      <th>M/E NO.6 CYL EXH GAS OUT T (C)</th>\n      <th>M/E NO.7 CYL EXH GAS OUT T (C)</th>\n      <th>M/E NO.8 CYL EXH GAS OUT T (C)</th>\n      <th>M/E NO.1 CYL SCAV AIR T (C)</th>\n      <th>M/E NO.2 CYL SCAV AIR T (C)</th>\n      <th>M/E NO.3 CYL SCAV AIR T (C)</th>\n      <th>M/E NO.4 CYL SCAV AIR T (C)</th>\n      <th>M/E NO.5 CYL SCAV AIR T (C)</th>\n      <th>M/E NO.6 CYL SCAV AIR T (C)</th>\n      <th>M/E NO.7 CYL SCAV AIR T (C)</th>\n      <th>M/E NO.8 CYL SCAV AIR T (C)</th>\n      <th>M/E LOAD (%)</th>\n      <th>M/E RPM (rpm)</th>\n    </tr>\n  </thead>\n  <tbody>\n    <tr>\n      <th>0</th>\n      <td>307.0</td>\n      <td>303.0</td>\n      <td>299.0</td>\n      <td>291.0</td>\n      <td>290.0</td>\n      <td>295.0</td>\n      <td>309.0</td>\n      <td>291.0</td>\n      <td>54.0</td>\n      <td>57.0</td>\n      <td>58.0</td>\n      <td>58.0</td>\n      <td>57.0</td>\n      <td>56.0</td>\n      <td>56.0</td>\n      <td>55.0</td>\n      <td>19.305019</td>\n      <td>62.0</td>\n    </tr>\n    <tr>\n      <th>1</th>\n      <td>307.0</td>\n      <td>301.0</td>\n      <td>299.0</td>\n      <td>289.0</td>\n      <td>290.0</td>\n      <td>293.0</td>\n      <td>311.0</td>\n      <td>292.0</td>\n      <td>54.0</td>\n      <td>57.0</td>\n      <td>58.0</td>\n      <td>58.0</td>\n      <td>57.0</td>\n      <td>56.0</td>\n      <td>56.0</td>\n      <td>54.0</td>\n      <td>19.305019</td>\n      <td>61.0</td>\n    </tr>\n    <tr>\n      <th>2</th>\n      <td>306.0</td>\n      <td>303.0</td>\n      <td>298.0</td>\n      <td>293.0</td>\n      <td>286.0</td>\n      <td>293.0</td>\n      <td>310.0</td>\n      <td>291.0</td>\n      <td>54.0</td>\n      <td>57.0</td>\n      <td>58.0</td>\n      <td>58.0</td>\n      <td>57.0</td>\n      <td>56.0</td>\n      <td>56.0</td>\n      <td>54.0</td>\n      <td>19.305019</td>\n      <td>61.0</td>\n    </tr>\n    <tr>\n      <th>3</th>\n      <td>308.0</td>\n      <td>304.0</td>\n      <td>298.0</td>\n      <td>291.0</td>\n      <td>288.0</td>\n      <td>293.0</td>\n      <td>312.0</td>\n      <td>290.0</td>\n      <td>54.0</td>\n      <td>57.0</td>\n      <td>58.0</td>\n      <td>58.0</td>\n      <td>57.0</td>\n      <td>56.0</td>\n      <td>56.0</td>\n      <td>55.0</td>\n      <td>19.305019</td>\n      <td>62.0</td>\n    </tr>\n    <tr>\n      <th>4</th>\n      <td>311.0</td>\n      <td>303.0</td>\n      <td>299.0</td>\n      <td>292.0</td>\n      <td>289.0</td>\n      <td>293.0</td>\n      <td>310.0</td>\n      <td>292.0</td>\n      <td>54.0</td>\n      <td>57.0</td>\n      <td>58.0</td>\n      <td>58.0</td>\n      <td>57.0</td>\n      <td>56.0</td>\n      <td>56.0</td>\n      <td>54.0</td>\n      <td>19.305019</td>\n      <td>61.0</td>\n    </tr>\n    <tr>\n      <th>...</th>\n      <td>...</td>\n      <td>...</td>\n      <td>...</td>\n      <td>...</td>\n      <td>...</td>\n      <td>...</td>\n      <td>...</td>\n      <td>...</td>\n      <td>...</td>\n      <td>...</td>\n      <td>...</td>\n      <td>...</td>\n      <td>...</td>\n      <td>...</td>\n      <td>...</td>\n      <td>...</td>\n      <td>...</td>\n      <td>...</td>\n    </tr>\n    <tr>\n      <th>6550</th>\n      <td>43.0</td>\n      <td>46.0</td>\n      <td>49.0</td>\n      <td>50.0</td>\n      <td>51.0</td>\n      <td>52.0</td>\n      <td>52.0</td>\n      <td>51.0</td>\n      <td>55.0</td>\n      <td>68.0</td>\n      <td>69.0</td>\n      <td>69.0</td>\n      <td>69.0</td>\n      <td>69.0</td>\n      <td>69.0</td>\n      <td>64.0</td>\n      <td>0.000000</td>\n      <td>0.0</td>\n    </tr>\n    <tr>\n      <th>6551</th>\n      <td>44.0</td>\n      <td>46.0</td>\n      <td>46.0</td>\n      <td>53.0</td>\n      <td>51.0</td>\n      <td>53.0</td>\n      <td>53.0</td>\n      <td>53.0</td>\n      <td>54.0</td>\n      <td>63.0</td>\n      <td>63.0</td>\n      <td>69.0</td>\n      <td>69.0</td>\n      <td>69.0</td>\n      <td>69.0</td>\n      <td>64.0</td>\n      <td>0.000000</td>\n      <td>0.0</td>\n    </tr>\n    <tr>\n      <th>6552</th>\n      <td>34.0</td>\n      <td>46.0</td>\n      <td>46.0</td>\n      <td>47.0</td>\n      <td>51.0</td>\n      <td>54.0</td>\n      <td>50.0</td>\n      <td>51.0</td>\n      <td>48.0</td>\n      <td>59.0</td>\n      <td>63.0</td>\n      <td>62.0</td>\n      <td>70.0</td>\n      <td>69.0</td>\n      <td>61.0</td>\n      <td>57.0</td>\n      <td>0.000000</td>\n      <td>0.0</td>\n    </tr>\n    <tr>\n      <th>6553</th>\n      <td>34.0</td>\n      <td>48.0</td>\n      <td>49.0</td>\n      <td>44.0</td>\n      <td>51.0</td>\n      <td>52.0</td>\n      <td>48.0</td>\n      <td>53.0</td>\n      <td>46.0</td>\n      <td>59.0</td>\n      <td>66.0</td>\n      <td>57.0</td>\n      <td>70.0</td>\n      <td>69.0</td>\n      <td>55.0</td>\n      <td>57.0</td>\n      <td>0.000000</td>\n      <td>0.0</td>\n    </tr>\n    <tr>\n      <th>6554</th>\n      <td>34.0</td>\n      <td>49.0</td>\n      <td>50.0</td>\n      <td>51.0</td>\n      <td>49.0</td>\n      <td>46.0</td>\n      <td>50.0</td>\n      <td>50.0</td>\n      <td>45.0</td>\n      <td>66.0</td>\n      <td>68.0</td>\n      <td>68.0</td>\n      <td>70.0</td>\n      <td>56.0</td>\n      <td>67.0</td>\n      <td>63.0</td>\n      <td>0.000000</td>\n      <td>0.0</td>\n    </tr>\n  </tbody>\n</table>\n<p>6555 rows × 18 columns</p>\n</div>",
      "text/plain": "      M/E NO.1 CYL EXH GAS OUT T (C)  M/E NO.2 CYL EXH GAS OUT T (C)  \\\n0                              307.0                           303.0   \n1                              307.0                           301.0   \n2                              306.0                           303.0   \n3                              308.0                           304.0   \n4                              311.0                           303.0   \n...                              ...                             ...   \n6550                            43.0                            46.0   \n6551                            44.0                            46.0   \n6552                            34.0                            46.0   \n6553                            34.0                            48.0   \n6554                            34.0                            49.0   \n\n      M/E NO.3 CYL EXH GAS OUT T (C)  M/E NO.4 CYL EXH GAS OUT T (C)  \\\n0                              299.0                           291.0   \n1                              299.0                           289.0   \n2                              298.0                           293.0   \n3                              298.0                           291.0   \n4                              299.0                           292.0   \n...                              ...                             ...   \n6550                            49.0                            50.0   \n6551                            46.0                            53.0   \n6552                            46.0                            47.0   \n6553                            49.0                            44.0   \n6554                            50.0                            51.0   \n\n      M/E NO.5 CYL EXH GAS OUT T (C)  M/E NO.6 CYL EXH GAS OUT T (C)  \\\n0                              290.0                           295.0   \n1                              290.0                           293.0   \n2                              286.0                           293.0   \n3                              288.0                           293.0   \n4                              289.0                           293.0   \n...                              ...                             ...   \n6550                            51.0                            52.0   \n6551                            51.0                            53.0   \n6552                            51.0                            54.0   \n6553                            51.0                            52.0   \n6554                            49.0                            46.0   \n\n      M/E NO.7 CYL EXH GAS OUT T (C)  M/E NO.8 CYL EXH GAS OUT T (C)  \\\n0                              309.0                           291.0   \n1                              311.0                           292.0   \n2                              310.0                           291.0   \n3                              312.0                           290.0   \n4                              310.0                           292.0   \n...                              ...                             ...   \n6550                            52.0                            51.0   \n6551                            53.0                            53.0   \n6552                            50.0                            51.0   \n6553                            48.0                            53.0   \n6554                            50.0                            50.0   \n\n      M/E NO.1 CYL SCAV AIR T (C)  M/E NO.2 CYL SCAV AIR T (C)  \\\n0                            54.0                         57.0   \n1                            54.0                         57.0   \n2                            54.0                         57.0   \n3                            54.0                         57.0   \n4                            54.0                         57.0   \n...                           ...                          ...   \n6550                         55.0                         68.0   \n6551                         54.0                         63.0   \n6552                         48.0                         59.0   \n6553                         46.0                         59.0   \n6554                         45.0                         66.0   \n\n      M/E NO.3 CYL SCAV AIR T (C)  M/E NO.4 CYL SCAV AIR T (C)  \\\n0                            58.0                         58.0   \n1                            58.0                         58.0   \n2                            58.0                         58.0   \n3                            58.0                         58.0   \n4                            58.0                         58.0   \n...                           ...                          ...   \n6550                         69.0                         69.0   \n6551                         63.0                         69.0   \n6552                         63.0                         62.0   \n6553                         66.0                         57.0   \n6554                         68.0                         68.0   \n\n      M/E NO.5 CYL SCAV AIR T (C)  M/E NO.6 CYL SCAV AIR T (C)  \\\n0                            57.0                         56.0   \n1                            57.0                         56.0   \n2                            57.0                         56.0   \n3                            57.0                         56.0   \n4                            57.0                         56.0   \n...                           ...                          ...   \n6550                         69.0                         69.0   \n6551                         69.0                         69.0   \n6552                         70.0                         69.0   \n6553                         70.0                         69.0   \n6554                         70.0                         56.0   \n\n      M/E NO.7 CYL SCAV AIR T (C)  M/E NO.8 CYL SCAV AIR T (C)  M/E LOAD (%)  \\\n0                            56.0                         55.0     19.305019   \n1                            56.0                         54.0     19.305019   \n2                            56.0                         54.0     19.305019   \n3                            56.0                         55.0     19.305019   \n4                            56.0                         54.0     19.305019   \n...                           ...                          ...           ...   \n6550                         69.0                         64.0      0.000000   \n6551                         69.0                         64.0      0.000000   \n6552                         61.0                         57.0      0.000000   \n6553                         55.0                         57.0      0.000000   \n6554                         67.0                         63.0      0.000000   \n\n      M/E RPM (rpm)  \n0              62.0  \n1              61.0  \n2              61.0  \n3              62.0  \n4              61.0  \n...             ...  \n6550            0.0  \n6551            0.0  \n6552            0.0  \n6553            0.0  \n6554            0.0  \n\n[6555 rows x 18 columns]"
     },
     "execution_count": 8,
     "metadata": {},
     "output_type": "execute_result"
    }
   ],
   "source": [
    "data"
   ]
  },
  {
   "cell_type": "markdown",
   "metadata": {
    "id": "KIR34lm_91wT"
   },
   "source": [
    "# Data Description"
   ]
  },
  {
   "cell_type": "code",
   "execution_count": 9,
   "metadata": {
    "scrolled": false
   },
   "outputs": [
    {
     "data": {
      "text/html": "<div>\n<style scoped>\n    .dataframe tbody tr th:only-of-type {\n        vertical-align: middle;\n    }\n\n    .dataframe tbody tr th {\n        vertical-align: top;\n    }\n\n    .dataframe thead th {\n        text-align: right;\n    }\n</style>\n<table border=\"1\" class=\"dataframe\">\n  <thead>\n    <tr style=\"text-align: right;\">\n      <th></th>\n      <th>count</th>\n      <th>mean</th>\n      <th>std</th>\n      <th>min</th>\n      <th>25%</th>\n      <th>50%</th>\n      <th>75%</th>\n      <th>max</th>\n    </tr>\n  </thead>\n  <tbody>\n    <tr>\n      <th>M/E NO.1 CYL EXH GAS OUT T (C)</th>\n      <td>6506.0</td>\n      <td>315.233323</td>\n      <td>87.322468</td>\n      <td>34.0</td>\n      <td>322.000000</td>\n      <td>349.000000</td>\n      <td>359.00000</td>\n      <td>419.000000</td>\n    </tr>\n    <tr>\n      <th>M/E NO.2 CYL EXH GAS OUT T (C)</th>\n      <td>6506.0</td>\n      <td>325.555641</td>\n      <td>90.284451</td>\n      <td>31.0</td>\n      <td>323.000000</td>\n      <td>362.000000</td>\n      <td>373.00000</td>\n      <td>396.000000</td>\n    </tr>\n    <tr>\n      <th>M/E NO.3 CYL EXH GAS OUT T (C)</th>\n      <td>6506.0</td>\n      <td>310.164925</td>\n      <td>84.904613</td>\n      <td>36.0</td>\n      <td>314.000000</td>\n      <td>344.000000</td>\n      <td>352.00000</td>\n      <td>379.000000</td>\n    </tr>\n    <tr>\n      <th>M/E NO.4 CYL EXH GAS OUT T (C)</th>\n      <td>6506.0</td>\n      <td>326.563941</td>\n      <td>91.023424</td>\n      <td>39.0</td>\n      <td>318.000000</td>\n      <td>366.000000</td>\n      <td>375.00000</td>\n      <td>400.000000</td>\n    </tr>\n    <tr>\n      <th>M/E NO.5 CYL EXH GAS OUT T (C)</th>\n      <td>6506.0</td>\n      <td>318.964802</td>\n      <td>88.720829</td>\n      <td>37.0</td>\n      <td>316.000000</td>\n      <td>356.000000</td>\n      <td>366.00000</td>\n      <td>391.000000</td>\n    </tr>\n    <tr>\n      <th>M/E NO.6 CYL EXH GAS OUT T (C)</th>\n      <td>6506.0</td>\n      <td>317.757147</td>\n      <td>87.896725</td>\n      <td>31.0</td>\n      <td>316.000000</td>\n      <td>354.000000</td>\n      <td>364.00000</td>\n      <td>386.000000</td>\n    </tr>\n    <tr>\n      <th>M/E NO.7 CYL EXH GAS OUT T (C)</th>\n      <td>6506.0</td>\n      <td>326.826007</td>\n      <td>89.969185</td>\n      <td>33.0</td>\n      <td>330.000000</td>\n      <td>364.000000</td>\n      <td>373.00000</td>\n      <td>402.000000</td>\n    </tr>\n    <tr>\n      <th>M/E NO.8 CYL EXH GAS OUT T (C)</th>\n      <td>6506.0</td>\n      <td>316.762988</td>\n      <td>87.656969</td>\n      <td>34.0</td>\n      <td>316.000000</td>\n      <td>354.000000</td>\n      <td>364.00000</td>\n      <td>386.000000</td>\n    </tr>\n    <tr>\n      <th>M/E NO.1 CYL SCAV AIR T (C)</th>\n      <td>6506.0</td>\n      <td>53.828159</td>\n      <td>3.672862</td>\n      <td>45.0</td>\n      <td>52.000000</td>\n      <td>53.000000</td>\n      <td>54.00000</td>\n      <td>70.000000</td>\n    </tr>\n    <tr>\n      <th>M/E NO.2 CYL SCAV AIR T (C)</th>\n      <td>6506.0</td>\n      <td>56.369198</td>\n      <td>3.578937</td>\n      <td>51.0</td>\n      <td>55.000000</td>\n      <td>56.000000</td>\n      <td>56.00000</td>\n      <td>72.000000</td>\n    </tr>\n    <tr>\n      <th>M/E NO.3 CYL SCAV AIR T (C)</th>\n      <td>6506.0</td>\n      <td>57.076237</td>\n      <td>3.538656</td>\n      <td>51.0</td>\n      <td>55.000000</td>\n      <td>56.000000</td>\n      <td>57.00000</td>\n      <td>72.000000</td>\n    </tr>\n    <tr>\n      <th>M/E NO.4 CYL SCAV AIR T (C)</th>\n      <td>6506.0</td>\n      <td>57.356133</td>\n      <td>3.370028</td>\n      <td>49.0</td>\n      <td>56.000000</td>\n      <td>56.000000</td>\n      <td>58.00000</td>\n      <td>72.000000</td>\n    </tr>\n    <tr>\n      <th>M/E NO.5 CYL SCAV AIR T (C)</th>\n      <td>6506.0</td>\n      <td>56.183369</td>\n      <td>3.712004</td>\n      <td>47.0</td>\n      <td>55.000000</td>\n      <td>55.000000</td>\n      <td>56.00000</td>\n      <td>72.000000</td>\n    </tr>\n    <tr>\n      <th>M/E NO.6 CYL SCAV AIR T (C)</th>\n      <td>6506.0</td>\n      <td>55.185060</td>\n      <td>4.052750</td>\n      <td>46.0</td>\n      <td>53.000000</td>\n      <td>55.000000</td>\n      <td>55.00000</td>\n      <td>72.000000</td>\n    </tr>\n    <tr>\n      <th>M/E NO.7 CYL SCAV AIR T (C)</th>\n      <td>6506.0</td>\n      <td>56.056102</td>\n      <td>3.661473</td>\n      <td>41.0</td>\n      <td>55.000000</td>\n      <td>55.000000</td>\n      <td>56.00000</td>\n      <td>71.000000</td>\n    </tr>\n    <tr>\n      <th>M/E NO.8 CYL SCAV AIR T (C)</th>\n      <td>6506.0</td>\n      <td>54.999539</td>\n      <td>2.696968</td>\n      <td>34.0</td>\n      <td>53.000000</td>\n      <td>55.000000</td>\n      <td>55.00000</td>\n      <td>67.000000</td>\n    </tr>\n    <tr>\n      <th>M/E LOAD (%)</th>\n      <td>6506.0</td>\n      <td>40.725302</td>\n      <td>21.767497</td>\n      <td>0.0</td>\n      <td>23.166023</td>\n      <td>46.332046</td>\n      <td>60.48906</td>\n      <td>74.002574</td>\n    </tr>\n    <tr>\n      <th>M/E RPM (rpm)</th>\n      <td>6506.0</td>\n      <td>70.460037</td>\n      <td>25.799904</td>\n      <td>-50.0</td>\n      <td>64.000000</td>\n      <td>81.000000</td>\n      <td>88.00000</td>\n      <td>96.000000</td>\n    </tr>\n  </tbody>\n</table>\n</div>",
      "text/plain": "                                 count        mean        std   min  \\\nM/E NO.1 CYL EXH GAS OUT T (C)  6506.0  315.233323  87.322468  34.0   \nM/E NO.2 CYL EXH GAS OUT T (C)  6506.0  325.555641  90.284451  31.0   \nM/E NO.3 CYL EXH GAS OUT T (C)  6506.0  310.164925  84.904613  36.0   \nM/E NO.4 CYL EXH GAS OUT T (C)  6506.0  326.563941  91.023424  39.0   \nM/E NO.5 CYL EXH GAS OUT T (C)  6506.0  318.964802  88.720829  37.0   \nM/E NO.6 CYL EXH GAS OUT T (C)  6506.0  317.757147  87.896725  31.0   \nM/E NO.7 CYL EXH GAS OUT T (C)  6506.0  326.826007  89.969185  33.0   \nM/E NO.8 CYL EXH GAS OUT T (C)  6506.0  316.762988  87.656969  34.0   \nM/E NO.1 CYL SCAV AIR T (C)     6506.0   53.828159   3.672862  45.0   \nM/E NO.2 CYL SCAV AIR T (C)     6506.0   56.369198   3.578937  51.0   \nM/E NO.3 CYL SCAV AIR T (C)     6506.0   57.076237   3.538656  51.0   \nM/E NO.4 CYL SCAV AIR T (C)     6506.0   57.356133   3.370028  49.0   \nM/E NO.5 CYL SCAV AIR T (C)     6506.0   56.183369   3.712004  47.0   \nM/E NO.6 CYL SCAV AIR T (C)     6506.0   55.185060   4.052750  46.0   \nM/E NO.7 CYL SCAV AIR T (C)     6506.0   56.056102   3.661473  41.0   \nM/E NO.8 CYL SCAV AIR T (C)     6506.0   54.999539   2.696968  34.0   \nM/E LOAD (%)                    6506.0   40.725302  21.767497   0.0   \nM/E RPM (rpm)                   6506.0   70.460037  25.799904 -50.0   \n\n                                       25%         50%        75%         max  \nM/E NO.1 CYL EXH GAS OUT T (C)  322.000000  349.000000  359.00000  419.000000  \nM/E NO.2 CYL EXH GAS OUT T (C)  323.000000  362.000000  373.00000  396.000000  \nM/E NO.3 CYL EXH GAS OUT T (C)  314.000000  344.000000  352.00000  379.000000  \nM/E NO.4 CYL EXH GAS OUT T (C)  318.000000  366.000000  375.00000  400.000000  \nM/E NO.5 CYL EXH GAS OUT T (C)  316.000000  356.000000  366.00000  391.000000  \nM/E NO.6 CYL EXH GAS OUT T (C)  316.000000  354.000000  364.00000  386.000000  \nM/E NO.7 CYL EXH GAS OUT T (C)  330.000000  364.000000  373.00000  402.000000  \nM/E NO.8 CYL EXH GAS OUT T (C)  316.000000  354.000000  364.00000  386.000000  \nM/E NO.1 CYL SCAV AIR T (C)      52.000000   53.000000   54.00000   70.000000  \nM/E NO.2 CYL SCAV AIR T (C)      55.000000   56.000000   56.00000   72.000000  \nM/E NO.3 CYL SCAV AIR T (C)      55.000000   56.000000   57.00000   72.000000  \nM/E NO.4 CYL SCAV AIR T (C)      56.000000   56.000000   58.00000   72.000000  \nM/E NO.5 CYL SCAV AIR T (C)      55.000000   55.000000   56.00000   72.000000  \nM/E NO.6 CYL SCAV AIR T (C)      53.000000   55.000000   55.00000   72.000000  \nM/E NO.7 CYL SCAV AIR T (C)      55.000000   55.000000   56.00000   71.000000  \nM/E NO.8 CYL SCAV AIR T (C)      53.000000   55.000000   55.00000   67.000000  \nM/E LOAD (%)                     23.166023   46.332046   60.48906   74.002574  \nM/E RPM (rpm)                    64.000000   81.000000   88.00000   96.000000  "
     },
     "execution_count": 9,
     "metadata": {},
     "output_type": "execute_result"
    }
   ],
   "source": [
    "# inspect sensor values\n",
    "data.describe().transpose()"
   ]
  },
  {
   "cell_type": "code",
   "execution_count": 10,
   "metadata": {},
   "outputs": [
    {
     "data": {
      "image/png": "[encoded data removed]",
      "text/plain": "<Figure size 1080x504 with 1 Axes>"
     },
     "metadata": {
      "needs_background": "light",
      "transient": {}
     },
     "output_type": "display_data"
    }
   ],
   "source": [
    "data['M/E RPM (rpm)'].hist(bins=15, figsize=(15,7))\n",
    "plt.xlabel('M/E RPM (rpm)')\n",
    "plt.ylabel('frequency')\n",
    "plt.show()"
   ]
  },
  {
   "cell_type": "markdown",
   "metadata": {
    "id": "AoPzRzWYAo7i"
   },
   "source": [
    "# Data Preprocessing"
   ]
  },
  {
   "cell_type": "code",
   "execution_count": 11,
   "metadata": {},
   "outputs": [],
   "source": [
    "standard_data = data.copy()"
   ]
  },
  {
   "cell_type": "code",
   "execution_count": 12,
   "metadata": {},
   "outputs": [],
   "source": [
    " \n",
    "# it is pretty often a good idea to standardize numbers before feeding our models with data. \n",
    "# It helps them generalize better and avoid problems with different scales of values with different meanings \n",
    "# Quite often standardization just means rescaling the numbers to mean = 0 and standard deviation = 1.\n",
    "import pandas as pd\n",
    "from sklearn import preprocessing\n",
    "from sklearn.preprocessing import StandardScaler\n",
    "x = standard_data.values #returns a numpy array\n",
    "min_max_scaler = preprocessing.MinMaxScaler()\n",
    "# standard_scaler = preprocessing.StandardScaler()\n",
    "x_scaled = min_max_scaler.fit_transform(x)\n",
    "standard_data = pd.DataFrame(x_scaled)\n",
    "standard_data.columns = col_names"
   ]
  },
  {
   "cell_type": "code",
   "execution_count": 13,
   "metadata": {},
   "outputs": [
    {
     "data": {
      "text/html": "<div>\n<style scoped>\n    .dataframe tbody tr th:only-of-type {\n        vertical-align: middle;\n    }\n\n    .dataframe tbody tr th {\n        vertical-align: top;\n    }\n\n    .dataframe thead th {\n        text-align: right;\n    }\n</style>\n<table border=\"1\" class=\"dataframe\">\n  <thead>\n    <tr style=\"text-align: right;\">\n      <th></th>\n      <th>M/E NO.1 CYL EXH GAS OUT T (C)</th>\n      <th>M/E NO.2 CYL EXH GAS OUT T (C)</th>\n      <th>M/E NO.3 CYL EXH GAS OUT T (C)</th>\n      <th>M/E NO.4 CYL EXH GAS OUT T (C)</th>\n      <th>M/E NO.5 CYL EXH GAS OUT T (C)</th>\n      <th>M/E NO.6 CYL EXH GAS OUT T (C)</th>\n      <th>M/E NO.7 CYL EXH GAS OUT T (C)</th>\n      <th>M/E NO.8 CYL EXH GAS OUT T (C)</th>\n      <th>M/E NO.1 CYL SCAV AIR T (C)</th>\n      <th>M/E NO.2 CYL SCAV AIR T (C)</th>\n      <th>M/E NO.3 CYL SCAV AIR T (C)</th>\n      <th>M/E NO.4 CYL SCAV AIR T (C)</th>\n      <th>M/E NO.5 CYL SCAV AIR T (C)</th>\n      <th>M/E NO.6 CYL SCAV AIR T (C)</th>\n      <th>M/E NO.7 CYL SCAV AIR T (C)</th>\n      <th>M/E NO.8 CYL SCAV AIR T (C)</th>\n      <th>M/E LOAD (%)</th>\n      <th>M/E RPM (rpm)</th>\n    </tr>\n  </thead>\n  <tbody>\n    <tr>\n      <th>0</th>\n      <td>307.0</td>\n      <td>303.0</td>\n      <td>299.0</td>\n      <td>291.0</td>\n      <td>290.0</td>\n      <td>295.0</td>\n      <td>309.0</td>\n      <td>291.0</td>\n      <td>54.0</td>\n      <td>57.0</td>\n      <td>58.0</td>\n      <td>58.0</td>\n      <td>57.0</td>\n      <td>56.0</td>\n      <td>56.0</td>\n      <td>55.0</td>\n      <td>19.305019</td>\n      <td>62.0</td>\n    </tr>\n    <tr>\n      <th>1</th>\n      <td>307.0</td>\n      <td>301.0</td>\n      <td>299.0</td>\n      <td>289.0</td>\n      <td>290.0</td>\n      <td>293.0</td>\n      <td>311.0</td>\n      <td>292.0</td>\n      <td>54.0</td>\n      <td>57.0</td>\n      <td>58.0</td>\n      <td>58.0</td>\n      <td>57.0</td>\n      <td>56.0</td>\n      <td>56.0</td>\n      <td>54.0</td>\n      <td>19.305019</td>\n      <td>61.0</td>\n    </tr>\n    <tr>\n      <th>2</th>\n      <td>306.0</td>\n      <td>303.0</td>\n      <td>298.0</td>\n      <td>293.0</td>\n      <td>286.0</td>\n      <td>293.0</td>\n      <td>310.0</td>\n      <td>291.0</td>\n      <td>54.0</td>\n      <td>57.0</td>\n      <td>58.0</td>\n      <td>58.0</td>\n      <td>57.0</td>\n      <td>56.0</td>\n      <td>56.0</td>\n      <td>54.0</td>\n      <td>19.305019</td>\n      <td>61.0</td>\n    </tr>\n    <tr>\n      <th>3</th>\n      <td>308.0</td>\n      <td>304.0</td>\n      <td>298.0</td>\n      <td>291.0</td>\n      <td>288.0</td>\n      <td>293.0</td>\n      <td>312.0</td>\n      <td>290.0</td>\n      <td>54.0</td>\n      <td>57.0</td>\n      <td>58.0</td>\n      <td>58.0</td>\n      <td>57.0</td>\n      <td>56.0</td>\n      <td>56.0</td>\n      <td>55.0</td>\n      <td>19.305019</td>\n      <td>62.0</td>\n    </tr>\n    <tr>\n      <th>4</th>\n      <td>311.0</td>\n      <td>303.0</td>\n      <td>299.0</td>\n      <td>292.0</td>\n      <td>289.0</td>\n      <td>293.0</td>\n      <td>310.0</td>\n      <td>292.0</td>\n      <td>54.0</td>\n      <td>57.0</td>\n      <td>58.0</td>\n      <td>58.0</td>\n      <td>57.0</td>\n      <td>56.0</td>\n      <td>56.0</td>\n      <td>54.0</td>\n      <td>19.305019</td>\n      <td>61.0</td>\n    </tr>\n    <tr>\n      <th>...</th>\n      <td>...</td>\n      <td>...</td>\n      <td>...</td>\n      <td>...</td>\n      <td>...</td>\n      <td>...</td>\n      <td>...</td>\n      <td>...</td>\n      <td>...</td>\n      <td>...</td>\n      <td>...</td>\n      <td>...</td>\n      <td>...</td>\n      <td>...</td>\n      <td>...</td>\n      <td>...</td>\n      <td>...</td>\n      <td>...</td>\n    </tr>\n    <tr>\n      <th>6550</th>\n      <td>43.0</td>\n      <td>46.0</td>\n      <td>49.0</td>\n      <td>50.0</td>\n      <td>51.0</td>\n      <td>52.0</td>\n      <td>52.0</td>\n      <td>51.0</td>\n      <td>55.0</td>\n      <td>68.0</td>\n      <td>69.0</td>\n      <td>69.0</td>\n      <td>69.0</td>\n      <td>69.0</td>\n      <td>69.0</td>\n      <td>64.0</td>\n      <td>0.000000</td>\n      <td>0.0</td>\n    </tr>\n    <tr>\n      <th>6551</th>\n      <td>44.0</td>\n      <td>46.0</td>\n      <td>46.0</td>\n      <td>53.0</td>\n      <td>51.0</td>\n      <td>53.0</td>\n      <td>53.0</td>\n      <td>53.0</td>\n      <td>54.0</td>\n      <td>63.0</td>\n      <td>63.0</td>\n      <td>69.0</td>\n      <td>69.0</td>\n      <td>69.0</td>\n      <td>69.0</td>\n      <td>64.0</td>\n      <td>0.000000</td>\n      <td>0.0</td>\n    </tr>\n    <tr>\n      <th>6552</th>\n      <td>34.0</td>\n      <td>46.0</td>\n      <td>46.0</td>\n      <td>47.0</td>\n      <td>51.0</td>\n      <td>54.0</td>\n      <td>50.0</td>\n      <td>51.0</td>\n      <td>48.0</td>\n      <td>59.0</td>\n      <td>63.0</td>\n      <td>62.0</td>\n      <td>70.0</td>\n      <td>69.0</td>\n      <td>61.0</td>\n      <td>57.0</td>\n      <td>0.000000</td>\n      <td>0.0</td>\n    </tr>\n    <tr>\n      <th>6553</th>\n      <td>34.0</td>\n      <td>48.0</td>\n      <td>49.0</td>\n      <td>44.0</td>\n      <td>51.0</td>\n      <td>52.0</td>\n      <td>48.0</td>\n      <td>53.0</td>\n      <td>46.0</td>\n      <td>59.0</td>\n      <td>66.0</td>\n      <td>57.0</td>\n      <td>70.0</td>\n      <td>69.0</td>\n      <td>55.0</td>\n      <td>57.0</td>\n      <td>0.000000</td>\n      <td>0.0</td>\n    </tr>\n    <tr>\n      <th>6554</th>\n      <td>34.0</td>\n      <td>49.0</td>\n      <td>50.0</td>\n      <td>51.0</td>\n      <td>49.0</td>\n      <td>46.0</td>\n      <td>50.0</td>\n      <td>50.0</td>\n      <td>45.0</td>\n      <td>66.0</td>\n      <td>68.0</td>\n      <td>68.0</td>\n      <td>70.0</td>\n      <td>56.0</td>\n      <td>67.0</td>\n      <td>63.0</td>\n      <td>0.000000</td>\n      <td>0.0</td>\n    </tr>\n  </tbody>\n</table>\n<p>6555 rows × 18 columns</p>\n</div>",
      "text/plain": "      M/E NO.1 CYL EXH GAS OUT T (C)  M/E NO.2 CYL EXH GAS OUT T (C)  \\\n0                              307.0                           303.0   \n1                              307.0                           301.0   \n2                              306.0                           303.0   \n3                              308.0                           304.0   \n4                              311.0                           303.0   \n...                              ...                             ...   \n6550                            43.0                            46.0   \n6551                            44.0                            46.0   \n6552                            34.0                            46.0   \n6553                            34.0                            48.0   \n6554                            34.0                            49.0   \n\n      M/E NO.3 CYL EXH GAS OUT T (C)  M/E NO.4 CYL EXH GAS OUT T (C)  \\\n0                              299.0                           291.0   \n1                              299.0                           289.0   \n2                              298.0                           293.0   \n3                              298.0                           291.0   \n4                              299.0                           292.0   \n...                              ...                             ...   \n6550                            49.0                            50.0   \n6551                            46.0                            53.0   \n6552                            46.0                            47.0   \n6553                            49.0                            44.0   \n6554                            50.0                            51.0   \n\n      M/E NO.5 CYL EXH GAS OUT T (C)  M/E NO.6 CYL EXH GAS OUT T (C)  \\\n0                              290.0                           295.0   \n1                              290.0                           293.0   \n2                              286.0                           293.0   \n3                              288.0                           293.0   \n4                              289.0                           293.0   \n...                              ...                             ...   \n6550                            51.0                            52.0   \n6551                            51.0                            53.0   \n6552                            51.0                            54.0   \n6553                            51.0                            52.0   \n6554                            49.0                            46.0   \n\n      M/E NO.7 CYL EXH GAS OUT T (C)  M/E NO.8 CYL EXH GAS OUT T (C)  \\\n0                              309.0                           291.0   \n1                              311.0                           292.0   \n2                              310.0                           291.0   \n3                              312.0                           290.0   \n4                              310.0                           292.0   \n...                              ...                             ...   \n6550                            52.0                            51.0   \n6551                            53.0                            53.0   \n6552                            50.0                            51.0   \n6553                            48.0                            53.0   \n6554                            50.0                            50.0   \n\n      M/E NO.1 CYL SCAV AIR T (C)  M/E NO.2 CYL SCAV AIR T (C)  \\\n0                            54.0                         57.0   \n1                            54.0                         57.0   \n2                            54.0                         57.0   \n3                            54.0                         57.0   \n4                            54.0                         57.0   \n...                           ...                          ...   \n6550                         55.0                         68.0   \n6551                         54.0                         63.0   \n6552                         48.0                         59.0   \n6553                         46.0                         59.0   \n6554                         45.0                         66.0   \n\n      M/E NO.3 CYL SCAV AIR T (C)  M/E NO.4 CYL SCAV AIR T (C)  \\\n0                            58.0                         58.0   \n1                            58.0                         58.0   \n2                            58.0                         58.0   \n3                            58.0                         58.0   \n4                            58.0                         58.0   \n...                           ...                          ...   \n6550                         69.0                         69.0   \n6551                         63.0                         69.0   \n6552                         63.0                         62.0   \n6553                         66.0                         57.0   \n6554                         68.0                         68.0   \n\n      M/E NO.5 CYL SCAV AIR T (C)  M/E NO.6 CYL SCAV AIR T (C)  \\\n0                            57.0                         56.0   \n1                            57.0                         56.0   \n2                            57.0                         56.0   \n3                            57.0                         56.0   \n4                            57.0                         56.0   \n...                           ...                          ...   \n6550                         69.0                         69.0   \n6551                         69.0                         69.0   \n6552                         70.0                         69.0   \n6553                         70.0                         69.0   \n6554                         70.0                         56.0   \n\n      M/E NO.7 CYL SCAV AIR T (C)  M/E NO.8 CYL SCAV AIR T (C)  M/E LOAD (%)  \\\n0                            56.0                         55.0     19.305019   \n1                            56.0                         54.0     19.305019   \n2                            56.0                         54.0     19.305019   \n3                            56.0                         55.0     19.305019   \n4                            56.0                         54.0     19.305019   \n...                           ...                          ...           ...   \n6550                         69.0                         64.0      0.000000   \n6551                         69.0                         64.0      0.000000   \n6552                         61.0                         57.0      0.000000   \n6553                         55.0                         57.0      0.000000   \n6554                         67.0                         63.0      0.000000   \n\n      M/E RPM (rpm)  \n0              62.0  \n1              61.0  \n2              61.0  \n3              62.0  \n4              61.0  \n...             ...  \n6550            0.0  \n6551            0.0  \n6552            0.0  \n6553            0.0  \n6554            0.0  \n\n[6555 rows x 18 columns]"
     },
     "execution_count": 13,
     "metadata": {},
     "output_type": "execute_result"
    }
   ],
   "source": [
    "data"
   ]
  },
  {
   "cell_type": "code",
   "execution_count": 14,
   "metadata": {},
   "outputs": [
    {
     "data": {
      "text/html": "<div>\n<style scoped>\n    .dataframe tbody tr th:only-of-type {\n        vertical-align: middle;\n    }\n\n    .dataframe tbody tr th {\n        vertical-align: top;\n    }\n\n    .dataframe thead th {\n        text-align: right;\n    }\n</style>\n<table border=\"1\" class=\"dataframe\">\n  <thead>\n    <tr style=\"text-align: right;\">\n      <th></th>\n      <th>M/E NO.1 CYL EXH GAS OUT T (C)</th>\n      <th>M/E NO.2 CYL EXH GAS OUT T (C)</th>\n      <th>M/E NO.3 CYL EXH GAS OUT T (C)</th>\n      <th>M/E NO.4 CYL EXH GAS OUT T (C)</th>\n      <th>M/E NO.5 CYL EXH GAS OUT T (C)</th>\n      <th>M/E NO.6 CYL EXH GAS OUT T (C)</th>\n      <th>M/E NO.7 CYL EXH GAS OUT T (C)</th>\n      <th>M/E NO.8 CYL EXH GAS OUT T (C)</th>\n      <th>M/E NO.1 CYL SCAV AIR T (C)</th>\n      <th>M/E NO.2 CYL SCAV AIR T (C)</th>\n      <th>M/E NO.3 CYL SCAV AIR T (C)</th>\n      <th>M/E NO.4 CYL SCAV AIR T (C)</th>\n      <th>M/E NO.5 CYL SCAV AIR T (C)</th>\n      <th>M/E NO.6 CYL SCAV AIR T (C)</th>\n      <th>M/E NO.7 CYL SCAV AIR T (C)</th>\n      <th>M/E NO.8 CYL SCAV AIR T (C)</th>\n      <th>M/E LOAD (%)</th>\n      <th>M/E RPM (rpm)</th>\n    </tr>\n  </thead>\n  <tbody>\n    <tr>\n      <th>0</th>\n      <td>0.709091</td>\n      <td>0.745205</td>\n      <td>0.766764</td>\n      <td>0.698061</td>\n      <td>0.714689</td>\n      <td>0.743662</td>\n      <td>0.747967</td>\n      <td>0.730114</td>\n      <td>0.36</td>\n      <td>0.285714</td>\n      <td>0.333333</td>\n      <td>0.391304</td>\n      <td>0.40</td>\n      <td>0.384615</td>\n      <td>0.500000</td>\n      <td>0.636364</td>\n      <td>0.26087</td>\n      <td>0.767123</td>\n    </tr>\n    <tr>\n      <th>1</th>\n      <td>0.709091</td>\n      <td>0.739726</td>\n      <td>0.766764</td>\n      <td>0.692521</td>\n      <td>0.714689</td>\n      <td>0.738028</td>\n      <td>0.753388</td>\n      <td>0.732955</td>\n      <td>0.36</td>\n      <td>0.285714</td>\n      <td>0.333333</td>\n      <td>0.391304</td>\n      <td>0.40</td>\n      <td>0.384615</td>\n      <td>0.500000</td>\n      <td>0.606061</td>\n      <td>0.26087</td>\n      <td>0.760274</td>\n    </tr>\n    <tr>\n      <th>2</th>\n      <td>0.706494</td>\n      <td>0.745205</td>\n      <td>0.763848</td>\n      <td>0.703601</td>\n      <td>0.703390</td>\n      <td>0.738028</td>\n      <td>0.750678</td>\n      <td>0.730114</td>\n      <td>0.36</td>\n      <td>0.285714</td>\n      <td>0.333333</td>\n      <td>0.391304</td>\n      <td>0.40</td>\n      <td>0.384615</td>\n      <td>0.500000</td>\n      <td>0.606061</td>\n      <td>0.26087</td>\n      <td>0.760274</td>\n    </tr>\n    <tr>\n      <th>3</th>\n      <td>0.711688</td>\n      <td>0.747945</td>\n      <td>0.763848</td>\n      <td>0.698061</td>\n      <td>0.709040</td>\n      <td>0.738028</td>\n      <td>0.756098</td>\n      <td>0.727273</td>\n      <td>0.36</td>\n      <td>0.285714</td>\n      <td>0.333333</td>\n      <td>0.391304</td>\n      <td>0.40</td>\n      <td>0.384615</td>\n      <td>0.500000</td>\n      <td>0.636364</td>\n      <td>0.26087</td>\n      <td>0.767123</td>\n    </tr>\n    <tr>\n      <th>4</th>\n      <td>0.719481</td>\n      <td>0.745205</td>\n      <td>0.766764</td>\n      <td>0.700831</td>\n      <td>0.711864</td>\n      <td>0.738028</td>\n      <td>0.750678</td>\n      <td>0.732955</td>\n      <td>0.36</td>\n      <td>0.285714</td>\n      <td>0.333333</td>\n      <td>0.391304</td>\n      <td>0.40</td>\n      <td>0.384615</td>\n      <td>0.500000</td>\n      <td>0.606061</td>\n      <td>0.26087</td>\n      <td>0.760274</td>\n    </tr>\n    <tr>\n      <th>...</th>\n      <td>...</td>\n      <td>...</td>\n      <td>...</td>\n      <td>...</td>\n      <td>...</td>\n      <td>...</td>\n      <td>...</td>\n      <td>...</td>\n      <td>...</td>\n      <td>...</td>\n      <td>...</td>\n      <td>...</td>\n      <td>...</td>\n      <td>...</td>\n      <td>...</td>\n      <td>...</td>\n      <td>...</td>\n      <td>...</td>\n    </tr>\n    <tr>\n      <th>6550</th>\n      <td>0.023377</td>\n      <td>0.041096</td>\n      <td>0.037901</td>\n      <td>0.030471</td>\n      <td>0.039548</td>\n      <td>0.059155</td>\n      <td>0.051491</td>\n      <td>0.048295</td>\n      <td>0.40</td>\n      <td>0.809524</td>\n      <td>0.857143</td>\n      <td>0.869565</td>\n      <td>0.88</td>\n      <td>0.884615</td>\n      <td>0.933333</td>\n      <td>0.909091</td>\n      <td>0.00000</td>\n      <td>0.342466</td>\n    </tr>\n    <tr>\n      <th>6551</th>\n      <td>0.025974</td>\n      <td>0.041096</td>\n      <td>0.029155</td>\n      <td>0.038781</td>\n      <td>0.039548</td>\n      <td>0.061972</td>\n      <td>0.054201</td>\n      <td>0.053977</td>\n      <td>0.36</td>\n      <td>0.571429</td>\n      <td>0.571429</td>\n      <td>0.869565</td>\n      <td>0.88</td>\n      <td>0.884615</td>\n      <td>0.933333</td>\n      <td>0.909091</td>\n      <td>0.00000</td>\n      <td>0.342466</td>\n    </tr>\n    <tr>\n      <th>6552</th>\n      <td>0.000000</td>\n      <td>0.041096</td>\n      <td>0.029155</td>\n      <td>0.022161</td>\n      <td>0.039548</td>\n      <td>0.064789</td>\n      <td>0.046070</td>\n      <td>0.048295</td>\n      <td>0.12</td>\n      <td>0.380952</td>\n      <td>0.571429</td>\n      <td>0.565217</td>\n      <td>0.92</td>\n      <td>0.884615</td>\n      <td>0.666667</td>\n      <td>0.696970</td>\n      <td>0.00000</td>\n      <td>0.342466</td>\n    </tr>\n    <tr>\n      <th>6553</th>\n      <td>0.000000</td>\n      <td>0.046575</td>\n      <td>0.037901</td>\n      <td>0.013850</td>\n      <td>0.039548</td>\n      <td>0.059155</td>\n      <td>0.040650</td>\n      <td>0.053977</td>\n      <td>0.04</td>\n      <td>0.380952</td>\n      <td>0.714286</td>\n      <td>0.347826</td>\n      <td>0.92</td>\n      <td>0.884615</td>\n      <td>0.466667</td>\n      <td>0.696970</td>\n      <td>0.00000</td>\n      <td>0.342466</td>\n    </tr>\n    <tr>\n      <th>6554</th>\n      <td>0.000000</td>\n      <td>0.049315</td>\n      <td>0.040816</td>\n      <td>0.033241</td>\n      <td>0.033898</td>\n      <td>0.042254</td>\n      <td>0.046070</td>\n      <td>0.045455</td>\n      <td>0.00</td>\n      <td>0.714286</td>\n      <td>0.809524</td>\n      <td>0.826087</td>\n      <td>0.92</td>\n      <td>0.384615</td>\n      <td>0.866667</td>\n      <td>0.878788</td>\n      <td>0.00000</td>\n      <td>0.342466</td>\n    </tr>\n  </tbody>\n</table>\n<p>6555 rows × 18 columns</p>\n</div>",
      "text/plain": "      M/E NO.1 CYL EXH GAS OUT T (C)  M/E NO.2 CYL EXH GAS OUT T (C)  \\\n0                           0.709091                        0.745205   \n1                           0.709091                        0.739726   \n2                           0.706494                        0.745205   \n3                           0.711688                        0.747945   \n4                           0.719481                        0.745205   \n...                              ...                             ...   \n6550                        0.023377                        0.041096   \n6551                        0.025974                        0.041096   \n6552                        0.000000                        0.041096   \n6553                        0.000000                        0.046575   \n6554                        0.000000                        0.049315   \n\n      M/E NO.3 CYL EXH GAS OUT T (C)  M/E NO.4 CYL EXH GAS OUT T (C)  \\\n0                           0.766764                        0.698061   \n1                           0.766764                        0.692521   \n2                           0.763848                        0.703601   \n3                           0.763848                        0.698061   \n4                           0.766764                        0.700831   \n...                              ...                             ...   \n6550                        0.037901                        0.030471   \n6551                        0.029155                        0.038781   \n6552                        0.029155                        0.022161   \n6553                        0.037901                        0.013850   \n6554                        0.040816                        0.033241   \n\n      M/E NO.5 CYL EXH GAS OUT T (C)  M/E NO.6 CYL EXH GAS OUT T (C)  \\\n0                           0.714689                        0.743662   \n1                           0.714689                        0.738028   \n2                           0.703390                        0.738028   \n3                           0.709040                        0.738028   \n4                           0.711864                        0.738028   \n...                              ...                             ...   \n6550                        0.039548                        0.059155   \n6551                        0.039548                        0.061972   \n6552                        0.039548                        0.064789   \n6553                        0.039548                        0.059155   \n6554                        0.033898                        0.042254   \n\n      M/E NO.7 CYL EXH GAS OUT T (C)  M/E NO.8 CYL EXH GAS OUT T (C)  \\\n0                           0.747967                        0.730114   \n1                           0.753388                        0.732955   \n2                           0.750678                        0.730114   \n3                           0.756098                        0.727273   \n4                           0.750678                        0.732955   \n...                              ...                             ...   \n6550                        0.051491                        0.048295   \n6551                        0.054201                        0.053977   \n6552                        0.046070                        0.048295   \n6553                        0.040650                        0.053977   \n6554                        0.046070                        0.045455   \n\n      M/E NO.1 CYL SCAV AIR T (C)  M/E NO.2 CYL SCAV AIR T (C)  \\\n0                            0.36                     0.285714   \n1                            0.36                     0.285714   \n2                            0.36                     0.285714   \n3                            0.36                     0.285714   \n4                            0.36                     0.285714   \n...                           ...                          ...   \n6550                         0.40                     0.809524   \n6551                         0.36                     0.571429   \n6552                         0.12                     0.380952   \n6553                         0.04                     0.380952   \n6554                         0.00                     0.714286   \n\n      M/E NO.3 CYL SCAV AIR T (C)  M/E NO.4 CYL SCAV AIR T (C)  \\\n0                        0.333333                     0.391304   \n1                        0.333333                     0.391304   \n2                        0.333333                     0.391304   \n3                        0.333333                     0.391304   \n4                        0.333333                     0.391304   \n...                           ...                          ...   \n6550                     0.857143                     0.869565   \n6551                     0.571429                     0.869565   \n6552                     0.571429                     0.565217   \n6553                     0.714286                     0.347826   \n6554                     0.809524                     0.826087   \n\n      M/E NO.5 CYL SCAV AIR T (C)  M/E NO.6 CYL SCAV AIR T (C)  \\\n0                            0.40                     0.384615   \n1                            0.40                     0.384615   \n2                            0.40                     0.384615   \n3                            0.40                     0.384615   \n4                            0.40                     0.384615   \n...                           ...                          ...   \n6550                         0.88                     0.884615   \n6551                         0.88                     0.884615   \n6552                         0.92                     0.884615   \n6553                         0.92                     0.884615   \n6554                         0.92                     0.384615   \n\n      M/E NO.7 CYL SCAV AIR T (C)  M/E NO.8 CYL SCAV AIR T (C)  M/E LOAD (%)  \\\n0                        0.500000                     0.636364       0.26087   \n1                        0.500000                     0.606061       0.26087   \n2                        0.500000                     0.606061       0.26087   \n3                        0.500000                     0.636364       0.26087   \n4                        0.500000                     0.606061       0.26087   \n...                           ...                          ...           ...   \n6550                     0.933333                     0.909091       0.00000   \n6551                     0.933333                     0.909091       0.00000   \n6552                     0.666667                     0.696970       0.00000   \n6553                     0.466667                     0.696970       0.00000   \n6554                     0.866667                     0.878788       0.00000   \n\n      M/E RPM (rpm)  \n0          0.767123  \n1          0.760274  \n2          0.760274  \n3          0.767123  \n4          0.760274  \n...             ...  \n6550       0.342466  \n6551       0.342466  \n6552       0.342466  \n6553       0.342466  \n6554       0.342466  \n\n[6555 rows x 18 columns]"
     },
     "execution_count": 14,
     "metadata": {},
     "output_type": "execute_result"
    }
   ],
   "source": [
    "standard_data"
   ]
  },
  {
   "cell_type": "code",
   "execution_count": 15,
   "metadata": {},
   "outputs": [],
   "source": [
    "# the standard_data has 6555 rows, we split the data into training and testing datasets\n",
    "train = standard_data[:5840]\n",
    "test = standard_data[5840:]\n",
    "# anomaly_label = standard_data[5864:]"
   ]
  },
  {
   "cell_type": "code",
   "execution_count": 16,
   "metadata": {},
   "outputs": [
    {
     "data": {
      "text/plain": "True"
     },
     "execution_count": 16,
     "metadata": {},
     "output_type": "execute_result"
    }
   ],
   "source": [
    "# drop NAN records of the training dataset\n",
    "train.isnull().values.any()"
   ]
  },
  {
   "cell_type": "code",
   "execution_count": 17,
   "metadata": {},
   "outputs": [],
   "source": [
    "train = train.dropna()"
   ]
  },
  {
   "cell_type": "code",
   "execution_count": 18,
   "metadata": {},
   "outputs": [
    {
     "data": {
      "text/plain": "False"
     },
     "execution_count": 18,
     "metadata": {},
     "output_type": "execute_result"
    }
   ],
   "source": [
    "train.isnull().values.any()"
   ]
  },
  {
   "cell_type": "code",
   "execution_count": 19,
   "metadata": {},
   "outputs": [
    {
     "data": {
      "text/html": "<div>\n<style scoped>\n    .dataframe tbody tr th:only-of-type {\n        vertical-align: middle;\n    }\n\n    .dataframe tbody tr th {\n        vertical-align: top;\n    }\n\n    .dataframe thead th {\n        text-align: right;\n    }\n</style>\n<table border=\"1\" class=\"dataframe\">\n  <thead>\n    <tr style=\"text-align: right;\">\n      <th></th>\n      <th>M/E NO.1 CYL EXH GAS OUT T (C)</th>\n      <th>M/E NO.2 CYL EXH GAS OUT T (C)</th>\n      <th>M/E NO.3 CYL EXH GAS OUT T (C)</th>\n      <th>M/E NO.4 CYL EXH GAS OUT T (C)</th>\n      <th>M/E NO.5 CYL EXH GAS OUT T (C)</th>\n      <th>M/E NO.6 CYL EXH GAS OUT T (C)</th>\n      <th>M/E NO.7 CYL EXH GAS OUT T (C)</th>\n      <th>M/E NO.8 CYL EXH GAS OUT T (C)</th>\n      <th>M/E NO.1 CYL SCAV AIR T (C)</th>\n      <th>M/E NO.2 CYL SCAV AIR T (C)</th>\n      <th>M/E NO.3 CYL SCAV AIR T (C)</th>\n      <th>M/E NO.4 CYL SCAV AIR T (C)</th>\n      <th>M/E NO.5 CYL SCAV AIR T (C)</th>\n      <th>M/E NO.6 CYL SCAV AIR T (C)</th>\n      <th>M/E NO.7 CYL SCAV AIR T (C)</th>\n      <th>M/E NO.8 CYL SCAV AIR T (C)</th>\n      <th>M/E LOAD (%)</th>\n      <th>M/E RPM (rpm)</th>\n    </tr>\n  </thead>\n  <tbody>\n    <tr>\n      <th>0</th>\n      <td>0.709091</td>\n      <td>0.745205</td>\n      <td>0.766764</td>\n      <td>0.698061</td>\n      <td>0.714689</td>\n      <td>0.743662</td>\n      <td>0.747967</td>\n      <td>0.730114</td>\n      <td>0.36</td>\n      <td>0.285714</td>\n      <td>0.333333</td>\n      <td>0.391304</td>\n      <td>0.40</td>\n      <td>0.384615</td>\n      <td>0.500000</td>\n      <td>0.636364</td>\n      <td>0.260870</td>\n      <td>0.767123</td>\n    </tr>\n    <tr>\n      <th>1</th>\n      <td>0.709091</td>\n      <td>0.739726</td>\n      <td>0.766764</td>\n      <td>0.692521</td>\n      <td>0.714689</td>\n      <td>0.738028</td>\n      <td>0.753388</td>\n      <td>0.732955</td>\n      <td>0.36</td>\n      <td>0.285714</td>\n      <td>0.333333</td>\n      <td>0.391304</td>\n      <td>0.40</td>\n      <td>0.384615</td>\n      <td>0.500000</td>\n      <td>0.606061</td>\n      <td>0.260870</td>\n      <td>0.760274</td>\n    </tr>\n    <tr>\n      <th>2</th>\n      <td>0.706494</td>\n      <td>0.745205</td>\n      <td>0.763848</td>\n      <td>0.703601</td>\n      <td>0.703390</td>\n      <td>0.738028</td>\n      <td>0.750678</td>\n      <td>0.730114</td>\n      <td>0.36</td>\n      <td>0.285714</td>\n      <td>0.333333</td>\n      <td>0.391304</td>\n      <td>0.40</td>\n      <td>0.384615</td>\n      <td>0.500000</td>\n      <td>0.606061</td>\n      <td>0.260870</td>\n      <td>0.760274</td>\n    </tr>\n    <tr>\n      <th>3</th>\n      <td>0.711688</td>\n      <td>0.747945</td>\n      <td>0.763848</td>\n      <td>0.698061</td>\n      <td>0.709040</td>\n      <td>0.738028</td>\n      <td>0.756098</td>\n      <td>0.727273</td>\n      <td>0.36</td>\n      <td>0.285714</td>\n      <td>0.333333</td>\n      <td>0.391304</td>\n      <td>0.40</td>\n      <td>0.384615</td>\n      <td>0.500000</td>\n      <td>0.636364</td>\n      <td>0.260870</td>\n      <td>0.767123</td>\n    </tr>\n    <tr>\n      <th>4</th>\n      <td>0.719481</td>\n      <td>0.745205</td>\n      <td>0.766764</td>\n      <td>0.700831</td>\n      <td>0.711864</td>\n      <td>0.738028</td>\n      <td>0.750678</td>\n      <td>0.732955</td>\n      <td>0.36</td>\n      <td>0.285714</td>\n      <td>0.333333</td>\n      <td>0.391304</td>\n      <td>0.40</td>\n      <td>0.384615</td>\n      <td>0.500000</td>\n      <td>0.606061</td>\n      <td>0.260870</td>\n      <td>0.760274</td>\n    </tr>\n    <tr>\n      <th>...</th>\n      <td>...</td>\n      <td>...</td>\n      <td>...</td>\n      <td>...</td>\n      <td>...</td>\n      <td>...</td>\n      <td>...</td>\n      <td>...</td>\n      <td>...</td>\n      <td>...</td>\n      <td>...</td>\n      <td>...</td>\n      <td>...</td>\n      <td>...</td>\n      <td>...</td>\n      <td>...</td>\n      <td>...</td>\n      <td>...</td>\n    </tr>\n    <tr>\n      <th>5835</th>\n      <td>0.794805</td>\n      <td>0.904110</td>\n      <td>0.903790</td>\n      <td>0.908587</td>\n      <td>0.901130</td>\n      <td>0.901408</td>\n      <td>0.897019</td>\n      <td>0.903409</td>\n      <td>0.32</td>\n      <td>0.190476</td>\n      <td>0.238095</td>\n      <td>0.304348</td>\n      <td>0.32</td>\n      <td>0.269231</td>\n      <td>0.466667</td>\n      <td>0.666667</td>\n      <td>0.869565</td>\n      <td>0.952055</td>\n    </tr>\n    <tr>\n      <th>5836</th>\n      <td>0.807792</td>\n      <td>0.904110</td>\n      <td>0.909621</td>\n      <td>0.908587</td>\n      <td>0.892655</td>\n      <td>0.904225</td>\n      <td>0.891599</td>\n      <td>0.903409</td>\n      <td>0.32</td>\n      <td>0.190476</td>\n      <td>0.238095</td>\n      <td>0.304348</td>\n      <td>0.32</td>\n      <td>0.269231</td>\n      <td>0.466667</td>\n      <td>0.636364</td>\n      <td>0.860870</td>\n      <td>0.952055</td>\n    </tr>\n    <tr>\n      <th>5837</th>\n      <td>0.794805</td>\n      <td>0.904110</td>\n      <td>0.900875</td>\n      <td>0.900277</td>\n      <td>0.898305</td>\n      <td>0.909859</td>\n      <td>0.894309</td>\n      <td>0.906250</td>\n      <td>0.36</td>\n      <td>0.285714</td>\n      <td>0.285714</td>\n      <td>0.391304</td>\n      <td>0.36</td>\n      <td>0.346154</td>\n      <td>0.500000</td>\n      <td>0.666667</td>\n      <td>0.939130</td>\n      <td>0.972603</td>\n    </tr>\n    <tr>\n      <th>5838</th>\n      <td>0.797403</td>\n      <td>0.923288</td>\n      <td>0.903790</td>\n      <td>0.900277</td>\n      <td>0.898305</td>\n      <td>0.912676</td>\n      <td>0.888889</td>\n      <td>0.906250</td>\n      <td>0.40</td>\n      <td>0.285714</td>\n      <td>0.285714</td>\n      <td>0.391304</td>\n      <td>0.36</td>\n      <td>0.346154</td>\n      <td>0.500000</td>\n      <td>0.666667</td>\n      <td>0.956522</td>\n      <td>0.972603</td>\n    </tr>\n    <tr>\n      <th>5839</th>\n      <td>0.800000</td>\n      <td>0.926027</td>\n      <td>0.900875</td>\n      <td>0.908587</td>\n      <td>0.909605</td>\n      <td>0.904225</td>\n      <td>0.886179</td>\n      <td>0.909091</td>\n      <td>0.36</td>\n      <td>0.285714</td>\n      <td>0.285714</td>\n      <td>0.391304</td>\n      <td>0.36</td>\n      <td>0.346154</td>\n      <td>0.500000</td>\n      <td>0.666667</td>\n      <td>0.965217</td>\n      <td>0.972603</td>\n    </tr>\n  </tbody>\n</table>\n<p>5800 rows × 18 columns</p>\n</div>",
      "text/plain": "      M/E NO.1 CYL EXH GAS OUT T (C)  M/E NO.2 CYL EXH GAS OUT T (C)  \\\n0                           0.709091                        0.745205   \n1                           0.709091                        0.739726   \n2                           0.706494                        0.745205   \n3                           0.711688                        0.747945   \n4                           0.719481                        0.745205   \n...                              ...                             ...   \n5835                        0.794805                        0.904110   \n5836                        0.807792                        0.904110   \n5837                        0.794805                        0.904110   \n5838                        0.797403                        0.923288   \n5839                        0.800000                        0.926027   \n\n      M/E NO.3 CYL EXH GAS OUT T (C)  M/E NO.4 CYL EXH GAS OUT T (C)  \\\n0                           0.766764                        0.698061   \n1                           0.766764                        0.692521   \n2                           0.763848                        0.703601   \n3                           0.763848                        0.698061   \n4                           0.766764                        0.700831   \n...                              ...                             ...   \n5835                        0.903790                        0.908587   \n5836                        0.909621                        0.908587   \n5837                        0.900875                        0.900277   \n5838                        0.903790                        0.900277   \n5839                        0.900875                        0.908587   \n\n      M/E NO.5 CYL EXH GAS OUT T (C)  M/E NO.6 CYL EXH GAS OUT T (C)  \\\n0                           0.714689                        0.743662   \n1                           0.714689                        0.738028   \n2                           0.703390                        0.738028   \n3                           0.709040                        0.738028   \n4                           0.711864                        0.738028   \n...                              ...                             ...   \n5835                        0.901130                        0.901408   \n5836                        0.892655                        0.904225   \n5837                        0.898305                        0.909859   \n5838                        0.898305                        0.912676   \n5839                        0.909605                        0.904225   \n\n      M/E NO.7 CYL EXH GAS OUT T (C)  M/E NO.8 CYL EXH GAS OUT T (C)  \\\n0                           0.747967                        0.730114   \n1                           0.753388                        0.732955   \n2                           0.750678                        0.730114   \n3                           0.756098                        0.727273   \n4                           0.750678                        0.732955   \n...                              ...                             ...   \n5835                        0.897019                        0.903409   \n5836                        0.891599                        0.903409   \n5837                        0.894309                        0.906250   \n5838                        0.888889                        0.906250   \n5839                        0.886179                        0.909091   \n\n      M/E NO.1 CYL SCAV AIR T (C)  M/E NO.2 CYL SCAV AIR T (C)  \\\n0                            0.36                     0.285714   \n1                            0.36                     0.285714   \n2                            0.36                     0.285714   \n3                            0.36                     0.285714   \n4                            0.36                     0.285714   \n...                           ...                          ...   \n5835                         0.32                     0.190476   \n5836                         0.32                     0.190476   \n5837                         0.36                     0.285714   \n5838                         0.40                     0.285714   \n5839                         0.36                     0.285714   \n\n      M/E NO.3 CYL SCAV AIR T (C)  M/E NO.4 CYL SCAV AIR T (C)  \\\n0                        0.333333                     0.391304   \n1                        0.333333                     0.391304   \n2                        0.333333                     0.391304   \n3                        0.333333                     0.391304   \n4                        0.333333                     0.391304   \n...                           ...                          ...   \n5835                     0.238095                     0.304348   \n5836                     0.238095                     0.304348   \n5837                     0.285714                     0.391304   \n5838                     0.285714                     0.391304   \n5839                     0.285714                     0.391304   \n\n      M/E NO.5 CYL SCAV AIR T (C)  M/E NO.6 CYL SCAV AIR T (C)  \\\n0                            0.40                     0.384615   \n1                            0.40                     0.384615   \n2                            0.40                     0.384615   \n3                            0.40                     0.384615   \n4                            0.40                     0.384615   \n...                           ...                          ...   \n5835                         0.32                     0.269231   \n5836                         0.32                     0.269231   \n5837                         0.36                     0.346154   \n5838                         0.36                     0.346154   \n5839                         0.36                     0.346154   \n\n      M/E NO.7 CYL SCAV AIR T (C)  M/E NO.8 CYL SCAV AIR T (C)  M/E LOAD (%)  \\\n0                        0.500000                     0.636364      0.260870   \n1                        0.500000                     0.606061      0.260870   \n2                        0.500000                     0.606061      0.260870   \n3                        0.500000                     0.636364      0.260870   \n4                        0.500000                     0.606061      0.260870   \n...                           ...                          ...           ...   \n5835                     0.466667                     0.666667      0.869565   \n5836                     0.466667                     0.636364      0.860870   \n5837                     0.500000                     0.666667      0.939130   \n5838                     0.500000                     0.666667      0.956522   \n5839                     0.500000                     0.666667      0.965217   \n\n      M/E RPM (rpm)  \n0          0.767123  \n1          0.760274  \n2          0.760274  \n3          0.767123  \n4          0.760274  \n...             ...  \n5835       0.952055  \n5836       0.952055  \n5837       0.972603  \n5838       0.972603  \n5839       0.972603  \n\n[5800 rows x 18 columns]"
     },
     "execution_count": 19,
     "metadata": {},
     "output_type": "execute_result"
    }
   ],
   "source": [
    "train"
   ]
  },
  {
   "cell_type": "code",
   "execution_count": 20,
   "metadata": {},
   "outputs": [
    {
     "data": {
      "text/plain": "True"
     },
     "execution_count": 20,
     "metadata": {},
     "output_type": "execute_result"
    }
   ],
   "source": [
    "# drop NAN records of the testing dataset\n",
    "test.isnull().values.any()"
   ]
  },
  {
   "cell_type": "code",
   "execution_count": 21,
   "metadata": {},
   "outputs": [],
   "source": [
    "test = test.dropna()"
   ]
  },
  {
   "cell_type": "code",
   "execution_count": 22,
   "metadata": {},
   "outputs": [
    {
     "data": {
      "text/html": "<div>\n<style scoped>\n    .dataframe tbody tr th:only-of-type {\n        vertical-align: middle;\n    }\n\n    .dataframe tbody tr th {\n        vertical-align: top;\n    }\n\n    .dataframe thead th {\n        text-align: right;\n    }\n</style>\n<table border=\"1\" class=\"dataframe\">\n  <thead>\n    <tr style=\"text-align: right;\">\n      <th></th>\n      <th>M/E NO.1 CYL EXH GAS OUT T (C)</th>\n      <th>M/E NO.2 CYL EXH GAS OUT T (C)</th>\n      <th>M/E NO.3 CYL EXH GAS OUT T (C)</th>\n      <th>M/E NO.4 CYL EXH GAS OUT T (C)</th>\n      <th>M/E NO.5 CYL EXH GAS OUT T (C)</th>\n      <th>M/E NO.6 CYL EXH GAS OUT T (C)</th>\n      <th>M/E NO.7 CYL EXH GAS OUT T (C)</th>\n      <th>M/E NO.8 CYL EXH GAS OUT T (C)</th>\n      <th>M/E NO.1 CYL SCAV AIR T (C)</th>\n      <th>M/E NO.2 CYL SCAV AIR T (C)</th>\n      <th>M/E NO.3 CYL SCAV AIR T (C)</th>\n      <th>M/E NO.4 CYL SCAV AIR T (C)</th>\n      <th>M/E NO.5 CYL SCAV AIR T (C)</th>\n      <th>M/E NO.6 CYL SCAV AIR T (C)</th>\n      <th>M/E NO.7 CYL SCAV AIR T (C)</th>\n      <th>M/E NO.8 CYL SCAV AIR T (C)</th>\n      <th>M/E LOAD (%)</th>\n      <th>M/E RPM (rpm)</th>\n    </tr>\n  </thead>\n  <tbody>\n    <tr>\n      <th>5840</th>\n      <td>0.805195</td>\n      <td>0.915068</td>\n      <td>0.903790</td>\n      <td>0.908587</td>\n      <td>0.901130</td>\n      <td>0.915493</td>\n      <td>0.897019</td>\n      <td>0.920455</td>\n      <td>0.40</td>\n      <td>0.285714</td>\n      <td>0.333333</td>\n      <td>0.391304</td>\n      <td>0.36</td>\n      <td>0.346154</td>\n      <td>0.533333</td>\n      <td>0.696970</td>\n      <td>0.965217</td>\n      <td>0.979452</td>\n    </tr>\n    <tr>\n      <th>5841</th>\n      <td>0.802597</td>\n      <td>0.928767</td>\n      <td>0.912536</td>\n      <td>0.908587</td>\n      <td>0.895480</td>\n      <td>0.907042</td>\n      <td>0.902439</td>\n      <td>0.917614</td>\n      <td>0.40</td>\n      <td>0.285714</td>\n      <td>0.333333</td>\n      <td>0.391304</td>\n      <td>0.40</td>\n      <td>0.346154</td>\n      <td>0.533333</td>\n      <td>0.696970</td>\n      <td>0.973913</td>\n      <td>0.979452</td>\n    </tr>\n    <tr>\n      <th>5842</th>\n      <td>0.812987</td>\n      <td>0.923288</td>\n      <td>0.912536</td>\n      <td>0.914127</td>\n      <td>0.898305</td>\n      <td>0.904225</td>\n      <td>0.899729</td>\n      <td>0.920455</td>\n      <td>0.40</td>\n      <td>0.285714</td>\n      <td>0.333333</td>\n      <td>0.391304</td>\n      <td>0.36</td>\n      <td>0.346154</td>\n      <td>0.533333</td>\n      <td>0.666667</td>\n      <td>0.965217</td>\n      <td>0.958904</td>\n    </tr>\n    <tr>\n      <th>5843</th>\n      <td>0.805195</td>\n      <td>0.926027</td>\n      <td>0.906706</td>\n      <td>0.908587</td>\n      <td>0.912429</td>\n      <td>0.909859</td>\n      <td>0.902439</td>\n      <td>0.911932</td>\n      <td>0.40</td>\n      <td>0.285714</td>\n      <td>0.333333</td>\n      <td>0.391304</td>\n      <td>0.36</td>\n      <td>0.346154</td>\n      <td>0.533333</td>\n      <td>0.666667</td>\n      <td>0.947826</td>\n      <td>0.979452</td>\n    </tr>\n    <tr>\n      <th>5844</th>\n      <td>0.802597</td>\n      <td>0.920548</td>\n      <td>0.900875</td>\n      <td>0.911357</td>\n      <td>0.909605</td>\n      <td>0.904225</td>\n      <td>0.897019</td>\n      <td>0.911932</td>\n      <td>0.36</td>\n      <td>0.285714</td>\n      <td>0.285714</td>\n      <td>0.391304</td>\n      <td>0.36</td>\n      <td>0.346154</td>\n      <td>0.533333</td>\n      <td>0.666667</td>\n      <td>0.947826</td>\n      <td>0.972603</td>\n    </tr>\n    <tr>\n      <th>...</th>\n      <td>...</td>\n      <td>...</td>\n      <td>...</td>\n      <td>...</td>\n      <td>...</td>\n      <td>...</td>\n      <td>...</td>\n      <td>...</td>\n      <td>...</td>\n      <td>...</td>\n      <td>...</td>\n      <td>...</td>\n      <td>...</td>\n      <td>...</td>\n      <td>...</td>\n      <td>...</td>\n      <td>...</td>\n      <td>...</td>\n    </tr>\n    <tr>\n      <th>6550</th>\n      <td>0.023377</td>\n      <td>0.041096</td>\n      <td>0.037901</td>\n      <td>0.030471</td>\n      <td>0.039548</td>\n      <td>0.059155</td>\n      <td>0.051491</td>\n      <td>0.048295</td>\n      <td>0.40</td>\n      <td>0.809524</td>\n      <td>0.857143</td>\n      <td>0.869565</td>\n      <td>0.88</td>\n      <td>0.884615</td>\n      <td>0.933333</td>\n      <td>0.909091</td>\n      <td>0.000000</td>\n      <td>0.342466</td>\n    </tr>\n    <tr>\n      <th>6551</th>\n      <td>0.025974</td>\n      <td>0.041096</td>\n      <td>0.029155</td>\n      <td>0.038781</td>\n      <td>0.039548</td>\n      <td>0.061972</td>\n      <td>0.054201</td>\n      <td>0.053977</td>\n      <td>0.36</td>\n      <td>0.571429</td>\n      <td>0.571429</td>\n      <td>0.869565</td>\n      <td>0.88</td>\n      <td>0.884615</td>\n      <td>0.933333</td>\n      <td>0.909091</td>\n      <td>0.000000</td>\n      <td>0.342466</td>\n    </tr>\n    <tr>\n      <th>6552</th>\n      <td>0.000000</td>\n      <td>0.041096</td>\n      <td>0.029155</td>\n      <td>0.022161</td>\n      <td>0.039548</td>\n      <td>0.064789</td>\n      <td>0.046070</td>\n      <td>0.048295</td>\n      <td>0.12</td>\n      <td>0.380952</td>\n      <td>0.571429</td>\n      <td>0.565217</td>\n      <td>0.92</td>\n      <td>0.884615</td>\n      <td>0.666667</td>\n      <td>0.696970</td>\n      <td>0.000000</td>\n      <td>0.342466</td>\n    </tr>\n    <tr>\n      <th>6553</th>\n      <td>0.000000</td>\n      <td>0.046575</td>\n      <td>0.037901</td>\n      <td>0.013850</td>\n      <td>0.039548</td>\n      <td>0.059155</td>\n      <td>0.040650</td>\n      <td>0.053977</td>\n      <td>0.04</td>\n      <td>0.380952</td>\n      <td>0.714286</td>\n      <td>0.347826</td>\n      <td>0.92</td>\n      <td>0.884615</td>\n      <td>0.466667</td>\n      <td>0.696970</td>\n      <td>0.000000</td>\n      <td>0.342466</td>\n    </tr>\n    <tr>\n      <th>6554</th>\n      <td>0.000000</td>\n      <td>0.049315</td>\n      <td>0.040816</td>\n      <td>0.033241</td>\n      <td>0.033898</td>\n      <td>0.042254</td>\n      <td>0.046070</td>\n      <td>0.045455</td>\n      <td>0.00</td>\n      <td>0.714286</td>\n      <td>0.809524</td>\n      <td>0.826087</td>\n      <td>0.92</td>\n      <td>0.384615</td>\n      <td>0.866667</td>\n      <td>0.878788</td>\n      <td>0.000000</td>\n      <td>0.342466</td>\n    </tr>\n  </tbody>\n</table>\n<p>706 rows × 18 columns</p>\n</div>",
      "text/plain": "      M/E NO.1 CYL EXH GAS OUT T (C)  M/E NO.2 CYL EXH GAS OUT T (C)  \\\n5840                        0.805195                        0.915068   \n5841                        0.802597                        0.928767   \n5842                        0.812987                        0.923288   \n5843                        0.805195                        0.926027   \n5844                        0.802597                        0.920548   \n...                              ...                             ...   \n6550                        0.023377                        0.041096   \n6551                        0.025974                        0.041096   \n6552                        0.000000                        0.041096   \n6553                        0.000000                        0.046575   \n6554                        0.000000                        0.049315   \n\n      M/E NO.3 CYL EXH GAS OUT T (C)  M/E NO.4 CYL EXH GAS OUT T (C)  \\\n5840                        0.903790                        0.908587   \n5841                        0.912536                        0.908587   \n5842                        0.912536                        0.914127   \n5843                        0.906706                        0.908587   \n5844                        0.900875                        0.911357   \n...                              ...                             ...   \n6550                        0.037901                        0.030471   \n6551                        0.029155                        0.038781   \n6552                        0.029155                        0.022161   \n6553                        0.037901                        0.013850   \n6554                        0.040816                        0.033241   \n\n      M/E NO.5 CYL EXH GAS OUT T (C)  M/E NO.6 CYL EXH GAS OUT T (C)  \\\n5840                        0.901130                        0.915493   \n5841                        0.895480                        0.907042   \n5842                        0.898305                        0.904225   \n5843                        0.912429                        0.909859   \n5844                        0.909605                        0.904225   \n...                              ...                             ...   \n6550                        0.039548                        0.059155   \n6551                        0.039548                        0.061972   \n6552                        0.039548                        0.064789   \n6553                        0.039548                        0.059155   \n6554                        0.033898                        0.042254   \n\n      M/E NO.7 CYL EXH GAS OUT T (C)  M/E NO.8 CYL EXH GAS OUT T (C)  \\\n5840                        0.897019                        0.920455   \n5841                        0.902439                        0.917614   \n5842                        0.899729                        0.920455   \n5843                        0.902439                        0.911932   \n5844                        0.897019                        0.911932   \n...                              ...                             ...   \n6550                        0.051491                        0.048295   \n6551                        0.054201                        0.053977   \n6552                        0.046070                        0.048295   \n6553                        0.040650                        0.053977   \n6554                        0.046070                        0.045455   \n\n      M/E NO.1 CYL SCAV AIR T (C)  M/E NO.2 CYL SCAV AIR T (C)  \\\n5840                         0.40                     0.285714   \n5841                         0.40                     0.285714   \n5842                         0.40                     0.285714   \n5843                         0.40                     0.285714   \n5844                         0.36                     0.285714   \n...                           ...                          ...   \n6550                         0.40                     0.809524   \n6551                         0.36                     0.571429   \n6552                         0.12                     0.380952   \n6553                         0.04                     0.380952   \n6554                         0.00                     0.714286   \n\n      M/E NO.3 CYL SCAV AIR T (C)  M/E NO.4 CYL SCAV AIR T (C)  \\\n5840                     0.333333                     0.391304   \n5841                     0.333333                     0.391304   \n5842                     0.333333                     0.391304   \n5843                     0.333333                     0.391304   \n5844                     0.285714                     0.391304   \n...                           ...                          ...   \n6550                     0.857143                     0.869565   \n6551                     0.571429                     0.869565   \n6552                     0.571429                     0.565217   \n6553                     0.714286                     0.347826   \n6554                     0.809524                     0.826087   \n\n      M/E NO.5 CYL SCAV AIR T (C)  M/E NO.6 CYL SCAV AIR T (C)  \\\n5840                         0.36                     0.346154   \n5841                         0.40                     0.346154   \n5842                         0.36                     0.346154   \n5843                         0.36                     0.346154   \n5844                         0.36                     0.346154   \n...                           ...                          ...   \n6550                         0.88                     0.884615   \n6551                         0.88                     0.884615   \n6552                         0.92                     0.884615   \n6553                         0.92                     0.884615   \n6554                         0.92                     0.384615   \n\n      M/E NO.7 CYL SCAV AIR T (C)  M/E NO.8 CYL SCAV AIR T (C)  M/E LOAD (%)  \\\n5840                     0.533333                     0.696970      0.965217   \n5841                     0.533333                     0.696970      0.973913   \n5842                     0.533333                     0.666667      0.965217   \n5843                     0.533333                     0.666667      0.947826   \n5844                     0.533333                     0.666667      0.947826   \n...                           ...                          ...           ...   \n6550                     0.933333                     0.909091      0.000000   \n6551                     0.933333                     0.909091      0.000000   \n6552                     0.666667                     0.696970      0.000000   \n6553                     0.466667                     0.696970      0.000000   \n6554                     0.866667                     0.878788      0.000000   \n\n      M/E RPM (rpm)  \n5840       0.979452  \n5841       0.979452  \n5842       0.958904  \n5843       0.979452  \n5844       0.972603  \n...             ...  \n6550       0.342466  \n6551       0.342466  \n6552       0.342466  \n6553       0.342466  \n6554       0.342466  \n\n[706 rows x 18 columns]"
     },
     "execution_count": 22,
     "metadata": {},
     "output_type": "execute_result"
    }
   ],
   "source": [
    "test"
   ]
  },
  {
   "cell_type": "code",
   "execution_count": 23,
   "metadata": {},
   "outputs": [
    {
     "data": {
      "text/plain": "False"
     },
     "execution_count": 23,
     "metadata": {},
     "output_type": "execute_result"
    }
   ],
   "source": [
    "test.isnull().values.any()"
   ]
  },
  {
   "cell_type": "code",
   "execution_count": 24,
   "metadata": {},
   "outputs": [],
   "source": [
    "import os\n",
    "# save each column data as a npy file\n",
    "def save(data, feature, feature_num, cur_dir, output_name):\n",
    "    number_column = data.loc[:, feature]\n",
    "    numbers = number_column.values\n",
    "    new_numbers = np.zeros((len(numbers),feature_num), dtype=float)\n",
    "    new_numbers[:,0] = numbers\n",
    "    makedirs(cur_dir, exist_ok=True)\n",
    "    with open(os.path.join(cur_dir, output_name + '.npy'), 'wb') as f:\n",
    "        np.save(f, new_numbers)"
   ]
  },
  {
   "cell_type": "code",
   "execution_count": 25,
   "metadata": {},
   "outputs": [],
   "source": [
    "\n",
    "feature_name = ['NO.1_Gas', 'NO.2_Gas', 'NO.3_Gas', 'NO.4_Gas', 'NO.5_Gas', 'NO.6_Gas', 'NO.7_Gas', 'NO.8_Gas', 'NO.1_Scav', 'NO.2_Scav', 'NO.3_Scav','NO.4_Scav', 'NO.5_Scav', 'NO.6_Scav', 'NO.7_Scav', 'NO.8_Scav', 'LOAD', 'RPM']\n",
    "for i, v in enumerate(col_names):\n",
    "    save(train, v, len(col_names), \"./datasets/data/train\", feature_name[i])"
   ]
  },
  {
   "cell_type": "code",
   "execution_count": 26,
   "metadata": {},
   "outputs": [],
   "source": [
    "\n",
    "for i, v in enumerate(col_names):\n",
    "    save(test, v, len(col_names), \"./datasets/data/test\", feature_name[i])"
   ]
  },
  {
   "cell_type": "code",
   "execution_count": 28,
   "metadata": {},
   "outputs": [
    {
     "name": "stdout",
     "output_type": "stream",
     "text": [
      "[['NO.1_Gas', 'ASC', '[]', '[contextual, contextual, contextual]', '692'], ['NO.2_Gas', 'ASC', '[]', '[contextual, contextual, contextual]', '692'], ['NO.3_Gas', 'ASC', '[]', '[contextual, contextual, contextual]', '692'], ['NO.4_Gas', 'ASC', '[]', '[contextual, contextual, contextual]', '692'], ['NO.5_Gas', 'ASC', '[]', '[contextual, contextual, contextual]', '692'], ['NO.6_Gas', 'ASC', '[]', '[contextual, contextual, contextual]', '692'], ['NO.7_Gas', 'ASC', '[]', '[contextual, contextual, contextual]', '692'], ['NO.8_Gas', 'ASC', '[]', '[contextual, contextual, contextual]', '692'], ['NO.1_Scav', 'ASC', '[]', '[contextual, contextual, contextual]', '692'], ['NO.2_Scav', 'ASC', '[]', '[contextual, contextual, contextual]', '692'], ['NO.3_Scav', 'ASC', '[]', '[contextual, contextual, contextual]', '692'], ['NO.4_Scav', 'ASC', '[]', '[contextual, contextual, contextual]', '692'], ['NO.5_Scav', 'ASC', '[]', '[contextual, contextual, contextual]', '692'], ['NO.6_Scav', 'ASC', '[]', '[contextual, contextual, contextual]', '692'], ['NO.7_Scav', 'ASC', '[[5864,6556]]', '[contextual, contextual, contextual]', '692'], ['NO.8_Scav', 'ASC', '[]', '[contextual, contextual, contextual]', '692'], ['LOAD', 'ASC', '[]', '[contextual, contextual, contextual]', '692'], ['RPM', 'ASC', '[]', '[contextual, contextual, contextual]', '692']]\n",
      "[['NO.1_Gas', 'ASC', '[]', '[contextual, contextual, contextual]', '692'], ['NO.2_Gas', 'ASC', '[]', '[contextual, contextual, contextual]', '692'], ['NO.3_Gas', 'ASC', '[]', '[contextual, contextual, contextual]', '692'], ['NO.4_Gas', 'ASC', '[]', '[contextual, contextual, contextual]', '692'], ['NO.5_Gas', 'ASC', '[]', '[contextual, contextual, contextual]', '692'], ['NO.6_Gas', 'ASC', '[]', '[contextual, contextual, contextual]', '692'], ['NO.7_Gas', 'ASC', '[]', '[contextual, contextual, contextual]', '692'], ['NO.8_Gas', 'ASC', '[]', '[contextual, contextual, contextual]', '692'], ['NO.1_Scav', 'ASC', '[]', '[contextual, contextual, contextual]', '692'], ['NO.2_Scav', 'ASC', '[]', '[contextual, contextual, contextual]', '692'], ['NO.3_Scav', 'ASC', '[]', '[contextual, contextual, contextual]', '692'], ['NO.4_Scav', 'ASC', '[]', '[contextual, contextual, contextual]', '692'], ['NO.5_Scav', 'ASC', '[]', '[contextual, contextual, contextual]', '692'], ['NO.6_Scav', 'ASC', '[]', '[contextual, contextual, contextual]', '692'], ['NO.7_Scav', 'ASC', '[[5864,6556]]', '[contextual, contextual, contextual]', '692'], ['NO.8_Scav', 'ASC', '[]', '[contextual, contextual, contextual]', '692'], ['LOAD', 'ASC', '[]', '[contextual, contextual, contextual]', '692'], ['RPM', 'ASC', '[]', '[contextual, contextual, contextual]', '692']]\n",
      "18\n",
      "706\n",
      "706\n",
      "706\n",
      "706\n",
      "706\n",
      "706\n",
      "706\n",
      "706\n",
      "706\n",
      "706\n",
      "706\n",
      "706\n",
      "706\n",
      "706\n",
      "706\n",
      "706\n",
      "706\n",
      "706\n",
      "ASC test_label (12708,)\n",
      "ASC train (104400, 18)\n",
      "ASC test (12708, 18)\n"
     ]
    }
   ],
   "source": [
    "# create training and testing datasets for \n",
    "from ast import literal_eval\n",
    "from csv import reader\n",
    "from os import listdir, makedirs, path\n",
    "from pickle import dump\n",
    "import numpy as np\n",
    "\n",
    "\n",
    "def load_data(dataset, dataset_folder, output_folder):\n",
    "\n",
    "        makedirs(output_folder, exist_ok=True)\n",
    "        with open(path.join(dataset_folder, \"labeled_anomalies.csv\"), \"r\") as file:\n",
    "            csv_reader = reader(file, delimiter=\",\")\n",
    "            res = [row for row in csv_reader][1:]\n",
    "#         res = sorted(res, key=lambda k: k[0])\n",
    "        print(res)\n",
    "        data_info = [row for row in res if row[1] == dataset]\n",
    "        print(data_info)\n",
    "        print(len(data_info))\n",
    "        labels = []\n",
    "        for row in data_info:\n",
    "            anomalies = literal_eval(row[2])\n",
    "            length = int(len(test))\n",
    "            print(length)\n",
    "#             print(len(train))\n",
    "            label = np.zeros([length], dtype=np.bool_)\n",
    "            for anomaly in anomalies:\n",
    "#                 print(len(train))\n",
    "#                 print(row)\n",
    "#                 print(anomaly[0] - len(train),anomaly[1] + 1 - len(train))\n",
    "                label[anomaly[0] - len(train): anomaly[1] + 1 - len(train)] = True\n",
    "            labels.extend(label)\n",
    "\n",
    "        labels = np.asarray(labels)\n",
    "        print(dataset, \"test_label\", labels.shape)\n",
    "\n",
    "        with open(path.join(output_folder, dataset + \"_\" + \"test_label\" + \".pkl\"), \"wb\") as file:\n",
    "            dump(labels, file)\n",
    "\n",
    "        def concatenate_and_save(category):\n",
    "            data = []\n",
    "            for row in data_info:\n",
    "                filename = row[0]\n",
    "                temp = np.load(path.join(dataset_folder, category, filename + \".npy\"))\n",
    "                data.extend(temp)\n",
    "            data = np.asarray(data)\n",
    "            print(dataset, category, data.shape)\n",
    "            with open(path.join(output_folder, dataset + \"_\" + category + \".pkl\"), \"wb\") as file:\n",
    "                dump(data, file)\n",
    "\n",
    "        for c in [\"train\", \"test\"]:\n",
    "            concatenate_and_save(c)\n",
    "\n",
    "\n",
    "dataset_folder = \"./datasets/data\"\n",
    "output_folder = \"./datasets/data/processed\"\n",
    "load_data('ASC', dataset_folder, output_folder)\n"
   ]
  },
  {
   "cell_type": "code",
   "execution_count": null,
   "metadata": {},
   "outputs": [],
   "source": []
  }
 ],
 "metadata": {
  "colab": {
   "name": "Copy of DeepLearningforRealTimeAnomalyDetection-Copy1.ipynb",
   "provenance": [],
   "toc_visible": true
  },
  "kernelspec": {
   "display_name": "asc",
   "language": "python",
   "name": "asc"
  },
  "language_info": {
   "codemirror_mode": {
    "name": "ipython",
    "version": 3
   },
   "file_extension": ".py",
   "mimetype": "text/x-python",
   "name": "python",
   "nbconvert_exporter": "python",
   "pygments_lexer": "ipython3",
   "version": "3.8.10"
  }
 },
 "nbformat": 4,
 "nbformat_minor": 1
}